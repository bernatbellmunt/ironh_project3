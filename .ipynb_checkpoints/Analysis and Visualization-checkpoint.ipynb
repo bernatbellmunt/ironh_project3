{
 "cells": [
  {
   "cell_type": "code",
   "execution_count": 1,
   "id": "a8431310",
   "metadata": {},
   "outputs": [],
   "source": [
    "#Imports\n",
    "\n",
    "\n",
    "import pandas as pd\n",
    "from pandas import json_normalize\n",
    "import requests \n",
    "import json\n",
    "import os\n",
    "from dotenv import load_dotenv #conda install -c conda-forge python-dotenv\n",
    "import time\n",
    "import folium\n",
    "from folium import Choropleth, Circle, Marker, Icon, Map\n",
    "from folium.plugins import HeatMap, MarkerCluster\n",
    "import os\n",
    "import requests\n",
    "from bs4 import BeautifulSoup\n",
    "import pandas as pd\n",
    "import re"
   ]
  },
  {
   "cell_type": "code",
   "execution_count": 2,
   "id": "39d239e3",
   "metadata": {},
   "outputs": [],
   "source": [
    "# I want the companies from City 1: Barcelona\n",
    "# I want the companies from City 2: Amsterdam\n",
    "# I want the companies from City 3: San Francisco\n",
    "\n",
    "# I will scrape them from https://gamedevmap.com/index.php?location={CITYNAME}"
   ]
  },
  {
   "cell_type": "code",
   "execution_count": 2,
   "id": "23a552b0",
   "metadata": {
    "scrolled": true
   },
   "outputs": [],
   "source": [
    "#SCRAPE 1: BARCELONA\n",
    "city = \"Barcelona\"\n",
    "url_game_barcelona = f\"https://gamedevmap.com/index.php?location={city}\"\n",
    "html_bcn = requests.get(url_game_barcelona)\n",
    "soup = BeautifulSoup(html_bcn.content, \"html.parser\")\n",
    "tags = soup.find_all(\"b\")\n",
    "bcn_companies = [i.getText() for i in tags]\n",
    "bcn_companies = bcn_companies[6:]"
   ]
  },
  {
   "cell_type": "code",
   "execution_count": 83,
   "id": "bf860252",
   "metadata": {},
   "outputs": [
    {
     "data": {
      "text/plain": [
       "'reg_company = r\">(\\\\w+|\\\\d+)<\"\\nreg_temp = r\">([A-Za-z\\\\s])<\"\\n\\nbcn_companies = re.findall(reg_company, str(tags))\\nbcn_companies = bcn_companies[5:]\\n\\nprint(len(bcn_companies), bcn_companies)'"
      ]
     },
     "execution_count": 83,
     "metadata": {},
     "output_type": "execute_result"
    }
   ],
   "source": [
    "'''reg_company = r\">(\\w+|\\d+)<\"\n",
    "reg_temp = r\">([A-Za-z\\\\s])<\"\n",
    "\n",
    "bcn_companies = re.findall(reg_company, str(tags))\n",
    "bcn_companies = bcn_companies[5:]\n",
    "\n",
    "print(len(bcn_companies), bcn_companies)'''"
   ]
  },
  {
   "cell_type": "code",
   "execution_count": 3,
   "id": "073d531a",
   "metadata": {},
   "outputs": [],
   "source": [
    "#SCRAPE 2: AMSTERDAM\n",
    "city = \"Amsterdam\"\n",
    "url_game_amsterdam = f\"https://gamedevmap.com/index.php?location={city}\"\n",
    "html_ams = requests.get(url_game_amsterdam)\n",
    "soup = BeautifulSoup(html_ams.content, \"html.parser\")\n",
    "tags = soup.find_all(\"b\")\n",
    "ams_companies = [i.getText() for i in tags]\n",
    "ams_companies = ams_companies[6:]"
   ]
  },
  {
   "cell_type": "code",
   "execution_count": 4,
   "id": "0d096910",
   "metadata": {},
   "outputs": [],
   "source": [
    "#SCRAPE 3: SAN FRANCISCO\n",
    "city = \"San%20Francisco\"\n",
    "url_game_sanfrancisco = f\"https://gamedevmap.com/index.php?location={city}\"\n",
    "html_sf = requests.get(url_game_sanfrancisco)\n",
    "soup = BeautifulSoup(html_sf.content, \"html.parser\")\n",
    "tags = soup.find_all(\"b\")\n",
    "sf_companies = [i.getText() for i in tags]\n",
    "sf_companies = sf_companies[6:]\n"
   ]
  },
  {
   "cell_type": "code",
   "execution_count": 10,
   "id": "9d8b8fce",
   "metadata": {
    "scrolled": true
   },
   "outputs": [
    {
     "data": {
      "text/plain": [
       "['2 Awesome Studio',\n",
       " '5 Ants',\n",
       " 'A Crowd of Monsters',\n",
       " 'Abylight',\n",
       " 'Abylight Studios',\n",
       " 'Alike Studio',\n",
       " 'Altered Matter',\n",
       " 'Anarkade',\n",
       " 'Appnormals Team',\n",
       " 'Awex Studios',\n",
       " 'Beautiful Glitch',\n",
       " 'Beautifun Games',\n",
       " 'Bloompix Studios',\n",
       " 'Corsegames',\n",
       " 'Dark Curry',\n",
       " 'Digital Legends',\n",
       " 'Divertap',\n",
       " 'DreamSoftGames',\n",
       " 'Drop of Pixel',\n",
       " 'Endflame Studios',\n",
       " 'Final Boss Games',\n",
       " 'Frozen Shard',\n",
       " 'GameHouse Spain',\n",
       " 'Gameloft',\n",
       " 'GSN Games',\n",
       " 'Herobeat Studios',\n",
       " 'Hexworks (CI Games)',\n",
       " 'Infinigon Games',\n",
       " 'Jandusoft',\n",
       " 'King.com (Activision)',\n",
       " 'Larian Studios',\n",
       " 'Life Zero Games',\n",
       " 'Like a Boss Games',\n",
       " 'Lince Works',\n",
       " 'Little Miracles Games',\n",
       " 'Lusho Games',\n",
       " 'Manduka Games',\n",
       " 'Nomada Studio',\n",
       " 'Novarama',\n",
       " 'Omnidrone',\n",
       " 'Outfit7',\n",
       " 'Pantumaca Barcelona',\n",
       " 'Petoons Studio',\n",
       " 'PiX Juegos',\n",
       " 'Pixel Cream',\n",
       " 'Playstark',\n",
       " 'Psious',\n",
       " 'Scopely',\n",
       " 'SmileGate',\n",
       " 'SoccerDream',\n",
       " 'Social Point',\n",
       " 'Starloop Studios',\n",
       " 'Studio Koba',\n",
       " 'Tangelo Games',\n",
       " 'Tanuki Game Studio',\n",
       " 'TikTak Games',\n",
       " 'Tilting Point',\n",
       " 'Titutitech',\n",
       " 'Troglobytes Games',\n",
       " 'U-Play Online',\n",
       " 'Ubisoft Barcelona',\n",
       " 'Undercoders',\n",
       " 'Undercoders',\n",
       " 'Unfinished Pixel',\n",
       " 'VirtualAge',\n",
       " 'Voodoo',\n",
       " 'Winko Games',\n",
       " 'Zeptolab']"
      ]
     },
     "execution_count": 10,
     "metadata": {},
     "output_type": "execute_result"
    }
   ],
   "source": [
    "bcn_companies"
   ]
  },
  {
   "cell_type": "code",
   "execution_count": 8,
   "id": "501d2c75",
   "metadata": {},
   "outputs": [],
   "source": [
    "import requests\n",
    "\n",
    "url = \"https://api.foursquare.com/v3/places/nearby?query=2%20Ton%20Studio\"\n",
    "\n",
    "headers = {\n",
    "    \"accept\": \"application/json\",\n",
    "    \"Authorization\": \"fsq3+fZhukazIdsdQYC8kjNOyqoI3tfZlCBgktME1Z2NElo=\"\n",
    "}\n",
    "\n",
    "response = requests.get(url, headers=headers).json()\n",
    "\n"
   ]
  },
  {
   "cell_type": "code",
   "execution_count": 9,
   "id": "d12dfda0",
   "metadata": {},
   "outputs": [
    {
     "data": {
      "text/plain": [
       "{'results': [{'fsq_id': '4d814df8a4e237042fecc6cc',\n",
       "   'categories': [],\n",
       "   'chains': [],\n",
       "   'distance': 465,\n",
       "   'geocodes': {'main': {'latitude': 41.39298, 'longitude': 2.159198}},\n",
       "   'link': '/v3/places/4d814df8a4e237042fecc6cc',\n",
       "   'location': {'address': 'Provença, 229',\n",
       "    'admin_region': 'Cataluña',\n",
       "    'country': 'ES',\n",
       "    'cross_street': '',\n",
       "    'formatted_address': 'Provença, 229, 08008 Barcelona Catalonia',\n",
       "    'locality': 'Barcelona',\n",
       "    'postcode': '08008',\n",
       "    'region': 'Catalonia'},\n",
       "   'name': 'Studio 229',\n",
       "   'related_places': {},\n",
       "   'timezone': 'Europe/Madrid'},\n",
       "  {'fsq_id': '4ea7d2ba46902b1f956d416e',\n",
       "   'categories': [{'id': 11130,\n",
       "     'name': 'Office Building',\n",
       "     'icon': {'prefix': 'https://ss3.4sqi.net/img/categories_v2/building/default_',\n",
       "      'suffix': '.png'}}],\n",
       "   'chains': [],\n",
       "   'distance': 1515,\n",
       "   'geocodes': {'main': {'latitude': 41.402283, 'longitude': 2.156188}},\n",
       "   'link': '/v3/places/4ea7d2ba46902b1f956d416e',\n",
       "   'location': {'address': 'Virtut, 11',\n",
       "    'admin_region': 'Cataluña',\n",
       "    'country': 'ES',\n",
       "    'cross_street': '',\n",
       "    'formatted_address': 'Virtut, 11, Barcelona Catalonia',\n",
       "    'locality': 'Barcelona',\n",
       "    'region': 'Catalonia'},\n",
       "   'name': 'Toni Miret Studio',\n",
       "   'related_places': {},\n",
       "   'timezone': 'Europe/Madrid'},\n",
       "  {'fsq_id': '5167ef1ae4b040160b004823',\n",
       "   'categories': [{'id': 12054,\n",
       "     'name': 'Music School',\n",
       "     'icon': {'prefix': 'https://ss3.4sqi.net/img/categories_v2/building/school_music_',\n",
       "      'suffix': '.png'}}],\n",
       "   'chains': [],\n",
       "   'distance': 2609,\n",
       "   'geocodes': {'main': {'latitude': 41.392161, 'longitude': 2.189893}},\n",
       "   'link': '/v3/places/5167ef1ae4b040160b004823',\n",
       "   'location': {'address': 'Llull, 21',\n",
       "    'admin_region': 'Cataluña',\n",
       "    'country': 'ES',\n",
       "    'cross_street': '',\n",
       "    'formatted_address': 'Llull, 21, Barcelona Catalonia',\n",
       "    'locality': 'Barcelona',\n",
       "    'region': 'Catalonia'},\n",
       "   'name': 'Andre Tonelli Guitar Studio',\n",
       "   'related_places': {},\n",
       "   'timezone': 'Europe/Madrid'},\n",
       "  {'fsq_id': '4e6a47d218381ea1bdd4c7f3',\n",
       "   'categories': [{'id': 17082,\n",
       "     'name': 'Furniture and Home Store',\n",
       "     'icon': {'prefix': 'https://ss3.4sqi.net/img/categories_v2/shops/furniture_',\n",
       "      'suffix': '.png'}}],\n",
       "   'chains': [],\n",
       "   'distance': 11988,\n",
       "   'geocodes': {'main': {'latitude': 41.345631, 'longitude': 2.028168}},\n",
       "   'link': '/v3/places/4e6a47d218381ea1bdd4c7f3',\n",
       "   'location': {'address': 'Calle Jordi Rubió I Balaguer 19-21',\n",
       "    'admin_region': 'Cataluña',\n",
       "    'country': 'ES',\n",
       "    'formatted_address': 'Calle Jordi Rubió I Balaguer 19-21, 08830 Sant Boi de Llobregat Catalonia',\n",
       "    'locality': 'Sant Boi de Llobregat',\n",
       "    'postcode': '08830',\n",
       "    'region': 'Catalonia'},\n",
       "   'name': 'Mobles Studio 19-21',\n",
       "   'related_places': {},\n",
       "   'timezone': 'Europe/Madrid'},\n",
       "  {'fsq_id': '4e063f99a809495e61918d97',\n",
       "   'categories': [{'id': 13347,\n",
       "     'name': 'Tapas Restaurant',\n",
       "     'icon': {'prefix': 'https://ss3.4sqi.net/img/categories_v2/food/tapas_',\n",
       "      'suffix': '.png'}}],\n",
       "   'chains': [],\n",
       "   'distance': 28621,\n",
       "   'geocodes': {'main': {'latitude': 41.546406, 'longitude': 2.430792},\n",
       "    'roof': {'latitude': 41.546406, 'longitude': 2.430792}},\n",
       "   'link': '/v3/places/4e063f99a809495e61918d97',\n",
       "   'location': {'address': 'Alemanya, 14',\n",
       "    'admin_region': 'Cataluña',\n",
       "    'country': 'ES',\n",
       "    'cross_street': '',\n",
       "    'formatted_address': 'Alemanya, 14, 08303 Mataró Catalonia',\n",
       "    'locality': 'Mataró',\n",
       "    'postcode': '08303',\n",
       "    'region': 'Catalonia'},\n",
       "   'name': 'Toni 2',\n",
       "   'related_places': {},\n",
       "   'timezone': 'Europe/Madrid'}]}"
      ]
     },
     "execution_count": 9,
     "metadata": {},
     "output_type": "execute_result"
    }
   ],
   "source": [
    "response"
   ]
  }
 ],
 "metadata": {
  "kernelspec": {
   "display_name": "Python 3 (ipykernel)",
   "language": "python",
   "name": "python3"
  },
  "language_info": {
   "codemirror_mode": {
    "name": "ipython",
    "version": 3
   },
   "file_extension": ".py",
   "mimetype": "text/x-python",
   "name": "python",
   "nbconvert_exporter": "python",
   "pygments_lexer": "ipython3",
   "version": "3.9.13"
  }
 },
 "nbformat": 4,
 "nbformat_minor": 5
}
