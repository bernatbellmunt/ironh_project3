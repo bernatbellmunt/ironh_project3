{
 "cells": [
  {
   "cell_type": "code",
   "execution_count": 1,
   "id": "807b3ba5",
   "metadata": {},
   "outputs": [],
   "source": [
    "#Imports\n",
    "\n",
    "\n",
    "import pandas as pd\n",
    "from pandas import json_normalize\n",
    "import requests \n",
    "import json\n",
    "import os\n",
    "from dotenv import load_dotenv #conda install -c conda-forge python-dotenv\n",
    "import time\n",
    "import folium\n",
    "from folium import Choropleth, Circle, Marker, Icon, Map\n",
    "from folium.plugins import HeatMap, MarkerCluster\n",
    "import os\n",
    "import requests\n",
    "from bs4 import BeautifulSoup\n",
    "import pandas as pd\n",
    "import re"
   ]
  },
  {
   "cell_type": "code",
   "execution_count": 2,
   "id": "834710d4",
   "metadata": {},
   "outputs": [],
   "source": [
    "# I want the companies from City 1: Barcelona\n",
    "# I want the companies from City 2: Amsterdam\n",
    "# I want the companies from City 3: San Francisco\n",
    "\n",
    "# I will scrape them from https://gamedevmap.com/index.php?location={CITYNAME}"
   ]
  },
  {
   "cell_type": "code",
   "execution_count": 2,
   "id": "f1d4da30",
   "metadata": {
    "scrolled": true
   },
   "outputs": [],
   "source": [
    "#SCRAPE 1: BARCELONA\n",
    "city = \"Barcelona\"\n",
    "url_game_barcelona = f\"https://gamedevmap.com/index.php?location={city}\"\n",
    "html_bcn = requests.get(url_game_barcelona)\n",
    "soup = BeautifulSoup(html_bcn.content, \"html.parser\")\n",
    "tags = soup.find_all(\"b\")\n",
    "bcn_companies = [i.getText() for i in tags]\n",
    "bcn_companies = bcn_companies[6:]"
   ]
  },
  {
   "cell_type": "code",
   "execution_count": 83,
   "id": "4848972e",
   "metadata": {},
   "outputs": [
    {
     "data": {
      "text/plain": [
       "'reg_company = r\">(\\\\w+|\\\\d+)<\"\\nreg_temp = r\">([A-Za-z\\\\s])<\"\\n\\nbcn_companies = re.findall(reg_company, str(tags))\\nbcn_companies = bcn_companies[5:]\\n\\nprint(len(bcn_companies), bcn_companies)'"
      ]
     },
     "execution_count": 83,
     "metadata": {},
     "output_type": "execute_result"
    }
   ],
   "source": [
    "'''reg_company = r\">(\\w+|\\d+)<\"\n",
    "reg_temp = r\">([A-Za-z\\\\s])<\"\n",
    "\n",
    "bcn_companies = re.findall(reg_company, str(tags))\n",
    "bcn_companies = bcn_companies[5:]\n",
    "\n",
    "print(len(bcn_companies), bcn_companies)'''"
   ]
  },
  {
   "cell_type": "code",
   "execution_count": 3,
   "id": "c99107c3",
   "metadata": {},
   "outputs": [],
   "source": [
    "#SCRAPE 2: AMSTERDAM\n",
    "city = \"Amsterdam\"\n",
    "url_game_amsterdam = f\"https://gamedevmap.com/index.php?location={city}\"\n",
    "html_ams = requests.get(url_game_amsterdam)\n",
    "soup = BeautifulSoup(html_ams.content, \"html.parser\")\n",
    "tags = soup.find_all(\"b\")\n",
    "ams_companies = [i.getText() for i in tags]\n",
    "ams_companies = ams_companies[6:]"
   ]
  },
  {
   "cell_type": "code",
   "execution_count": 4,
   "id": "67ba6e0d",
   "metadata": {},
   "outputs": [],
   "source": [
    "#SCRAPE 3: SAN FRANCISCO\n",
    "city = \"San%20Francisco\"\n",
    "url_game_sanfrancisco = f\"https://gamedevmap.com/index.php?location={city}\"\n",
    "html_sf = requests.get(url_game_sanfrancisco)\n",
    "soup = BeautifulSoup(html_sf.content, \"html.parser\")\n",
    "tags = soup.find_all(\"b\")\n",
    "sf_companies = [i.getText() for i in tags]\n",
    "sf_companies = sf_companies[6:]\n"
   ]
  },
  {
   "cell_type": "code",
   "execution_count": 11,
   "id": "e0fbeaa6",
   "metadata": {
    "scrolled": true
   },
   "outputs": [],
   "source": []
  },
  {
   "cell_type": "code",
   "execution_count": 14,
   "id": "d30daa09",
   "metadata": {},
   "outputs": [],
   "source": [
    "#bcn_companies"
   ]
  },
  {
   "cell_type": "code",
   "execution_count": 13,
   "id": "a9bfb366",
   "metadata": {
    "collapsed": true
   },
   "outputs": [
    {
     "data": {
      "text/plain": [
       "{'results': [{'fsq_id': '4d814df8a4e237042fecc6cc',\n",
       "   'categories': [],\n",
       "   'chains': [],\n",
       "   'distance': 1585,\n",
       "   'geocodes': {'main': {'latitude': 41.39298, 'longitude': 2.159198}},\n",
       "   'link': '/v3/places/4d814df8a4e237042fecc6cc',\n",
       "   'location': {'address': 'Provença, 229',\n",
       "    'admin_region': 'Cataluña',\n",
       "    'country': 'ES',\n",
       "    'cross_street': '',\n",
       "    'formatted_address': 'Provença, 229, 08008 Barcelona Catalonia',\n",
       "    'locality': 'Barcelona',\n",
       "    'postcode': '08008',\n",
       "    'region': 'Catalonia'},\n",
       "   'name': 'Studio 229',\n",
       "   'related_places': {},\n",
       "   'timezone': 'Europe/Madrid'},\n",
       "  {'fsq_id': '4e6a47d218381ea1bdd4c7f3',\n",
       "   'categories': [{'id': 17082,\n",
       "     'name': 'Furniture and Home Store',\n",
       "     'icon': {'prefix': 'https://ss3.4sqi.net/img/categories_v2/shops/furniture_',\n",
       "      'suffix': '.png'}}],\n",
       "   'chains': [],\n",
       "   'distance': 10780,\n",
       "   'geocodes': {'main': {'latitude': 41.345631, 'longitude': 2.028168}},\n",
       "   'link': '/v3/places/4e6a47d218381ea1bdd4c7f3',\n",
       "   'location': {'address': 'Calle Jordi Rubió I Balaguer 19-21',\n",
       "    'admin_region': 'Cataluña',\n",
       "    'country': 'ES',\n",
       "    'formatted_address': 'Calle Jordi Rubió I Balaguer 19-21, 08830 Sant Boi de Llobregat Catalonia',\n",
       "    'locality': 'Sant Boi de Llobregat',\n",
       "    'postcode': '08830',\n",
       "    'region': 'Catalonia'},\n",
       "   'name': 'Mobles Studio 19-21',\n",
       "   'related_places': {},\n",
       "   'timezone': 'Europe/Madrid'}]}"
      ]
     },
     "execution_count": 13,
     "metadata": {},
     "output_type": "execute_result"
    }
   ],
   "source": [
    "import requests\n",
    "\n",
    "url = \"https://api.foursquare.com/v3/places/nearby?ll=41.3926679%2C2.1401891&query=2%20Awesome%20Studio\"\n",
    "\n",
    "headers = {\n",
    "    \"accept\": \"application/json\",\n",
    "    \"Authorization\": \"fsq3+fZhukazIdsdQYC8kjNOyqoI3tfZlCBgktME1Z2NElo=\"\n",
    "}\n",
    "\n",
    "response = requests.get(url, headers=headers).json()\n",
    "\n",
    "response"
   ]
  },
  {
   "cell_type": "code",
   "execution_count": 15,
   "id": "36a58c63",
   "metadata": {},
   "outputs": [],
   "source": [
    "## REWORK, I WILL KEEP THE CITIES AS MY FAVOURITE, BUT I WILL LOOK FOR THE COMPANIES USING MONGO DB"
   ]
  },
  {
   "cell_type": "code",
   "execution_count": 18,
   "id": "c1b8c395",
   "metadata": {},
   "outputs": [],
   "source": [
    "# Import the database from Mongo\n",
    "from pymongo import MongoClient\n",
    "import pandas as pd\n",
    "import time\n",
    "client = MongoClient(\"localhost:27017\")\n",
    "client.list_database_names()\n",
    "db = client[\"ironhack\"]\n",
    "database = \"ironhack\"\n",
    "collection = \"companies\"\n",
    "c = db.get_collection(\"companies\")"
   ]
  },
  {
   "cell_type": "code",
   "execution_count": 19,
   "id": "3c15b19d",
   "metadata": {},
   "outputs": [
    {
     "data": {
      "text/plain": [
       "dict_keys(['_id', 'name', 'permalink', 'crunchbase_url', 'homepage_url', 'blog_url', 'blog_feed_url', 'twitter_username', 'category_code', 'number_of_employees', 'founded_year', 'founded_month', 'founded_day', 'deadpooled_year', 'tag_list', 'alias_list', 'email_address', 'phone_number', 'description', 'created_at', 'updated_at', 'overview', 'image', 'products', 'relationships', 'competitions', 'providerships', 'total_money_raised', 'funding_rounds', 'investments', 'acquisition', 'acquisitions', 'offices', 'milestones', 'video_embeds', 'screenshots', 'external_links', 'partners'])"
      ]
     },
     "execution_count": 19,
     "metadata": {},
     "output_type": "execute_result"
    }
   ],
   "source": [
    "result = c.find_one()\n",
    "result.keys()"
   ]
  },
  {
   "cell_type": "code",
   "execution_count": 41,
   "id": "ef47fbb5",
   "metadata": {},
   "outputs": [],
   "source": [
    "# as there are not many gaming comp in AMS and BCN --> select Game + WEB // LDN will keep only Gaming\n",
    "cond1 = {\"category_code\": {\"$regex\": \"game\"}}\n",
    "cond2 = {\"category_code\": {\"$regex\": \"web\"}}\n",
    "cat_cond = [cond1, cond2]\n",
    "cat_cond1 = {\"$or\": cat_cond}\n",
    "cond3 = {\"offices.0.city\": {\"$regex\": \"Barcelona\"}}\n",
    "all_cond = [cat_cond1, cond3]\n",
    "\n",
    "bcn = list(c.find({\"$and\": all_cond}, {\"_id\":0, \"name\":1, \"offices.latitude\":1,\"offices.longitude\":1,\"offices.city\":1}))\n",
    "\n",
    "\n"
   ]
  },
  {
   "cell_type": "code",
   "execution_count": 43,
   "id": "d74fa409",
   "metadata": {},
   "outputs": [],
   "source": [
    "cond1 = {\"category_code\": {\"$regex\": \"game\"}}\n",
    "cond2 = {\"category_code\": {\"$regex\": \"web\"}}\n",
    "cat_cond = [cond1, cond2]\n",
    "cat_cond1 = {\"$or\": cat_cond}\n",
    "cond3 = {\"offices.0.city\": {\"$regex\": \"Amsterdam\"}}\n",
    "all_cond = [cat_cond1, cond3]\n",
    "\n",
    "ams = list(c.find({\"$and\": all_cond}, {\"_id\":0, \"name\":1, \"offices.latitude\":1,\"offices.longitude\":1,\"offices.city\":1}))\n",
    "\n"
   ]
  },
  {
   "cell_type": "code",
   "execution_count": 48,
   "id": "30b69759",
   "metadata": {},
   "outputs": [],
   "source": [
    "cond1 = {\"category_code\": {\"$regex\": \"game\"}}\n",
    "\n",
    "cond3 = {\"offices.0.city\": {\"$regex\": \"London\"}}\n",
    "all_cond = [cat_cond1, cond3]\n",
    "\n",
    "ldn = list(c.find({\"$and\": all_cond}, {\"_id\":0, \"name\":1, \"offices.latitude\":1,\"offices.longitude\":1,\"offices.city\":1}))\n",
    "\n"
   ]
  },
  {
   "cell_type": "code",
   "execution_count": 81,
   "id": "27493843",
   "metadata": {},
   "outputs": [],
   "source": [
    "biglist = []\n",
    "for d in bcn:\n",
    "    biglist.append(d)\n",
    "for d in ams:\n",
    "    biglist.append(d)\n",
    "for d in ldn:\n",
    "    biglist.append(d)\n",
    "df = pd.DataFrame(biglist)"
   ]
  },
  {
   "cell_type": "code",
   "execution_count": 82,
   "id": "5c9155a3",
   "metadata": {},
   "outputs": [
    {
     "data": {
      "text/plain": [
       "161"
      ]
     },
     "execution_count": 82,
     "metadata": {},
     "output_type": "execute_result"
    }
   ],
   "source": [
    "df[\"offices\"].shape[0]\n",
    "\n"
   ]
  },
  {
   "cell_type": "code",
   "execution_count": 83,
   "id": "a4f7e829",
   "metadata": {},
   "outputs": [
    {
     "data": {
      "text/html": [
       "<div>\n",
       "<style scoped>\n",
       "    .dataframe tbody tr th:only-of-type {\n",
       "        vertical-align: middle;\n",
       "    }\n",
       "\n",
       "    .dataframe tbody tr th {\n",
       "        vertical-align: top;\n",
       "    }\n",
       "\n",
       "    .dataframe thead th {\n",
       "        text-align: right;\n",
       "    }\n",
       "</style>\n",
       "<table border=\"1\" class=\"dataframe\">\n",
       "  <thead>\n",
       "    <tr style=\"text-align: right;\">\n",
       "      <th></th>\n",
       "      <th>name</th>\n",
       "      <th>offices</th>\n",
       "      <th>city</th>\n",
       "      <th>latitude</th>\n",
       "      <th>longitude</th>\n",
       "    </tr>\n",
       "  </thead>\n",
       "  <tbody>\n",
       "    <tr>\n",
       "      <th>0</th>\n",
       "      <td>Splendia</td>\n",
       "      <td>[{'city': 'Barcelona', 'latitude': None, 'long...</td>\n",
       "      <td>Barcelona</td>\n",
       "      <td>NaN</td>\n",
       "      <td>NaN</td>\n",
       "    </tr>\n",
       "    <tr>\n",
       "      <th>1</th>\n",
       "      <td>Wuapi</td>\n",
       "      <td>[{'city': 'Barcelona', 'latitude': 41.387917, ...</td>\n",
       "      <td>Barcelona</td>\n",
       "      <td>41.387917</td>\n",
       "      <td>2.169919</td>\n",
       "    </tr>\n",
       "    <tr>\n",
       "      <th>2</th>\n",
       "      <td>Jobisjob</td>\n",
       "      <td>[{'city': 'Barcelona', 'latitude': 41.487094, ...</td>\n",
       "      <td>Barcelona</td>\n",
       "      <td>41.487094</td>\n",
       "      <td>2.077320</td>\n",
       "    </tr>\n",
       "    <tr>\n",
       "      <th>3</th>\n",
       "      <td>LingusTV</td>\n",
       "      <td>[{'city': 'Rubi (Barcelona)', 'latitude': None...</td>\n",
       "      <td>Rubi (Barcelona)</td>\n",
       "      <td>NaN</td>\n",
       "      <td>NaN</td>\n",
       "    </tr>\n",
       "    <tr>\n",
       "      <th>4</th>\n",
       "      <td>Qajack</td>\n",
       "      <td>[{'city': 'Barcelona', 'latitude': None, 'long...</td>\n",
       "      <td>Barcelona</td>\n",
       "      <td>NaN</td>\n",
       "      <td>NaN</td>\n",
       "    </tr>\n",
       "    <tr>\n",
       "      <th>...</th>\n",
       "      <td>...</td>\n",
       "      <td>...</td>\n",
       "      <td>...</td>\n",
       "      <td>...</td>\n",
       "      <td>...</td>\n",
       "    </tr>\n",
       "    <tr>\n",
       "      <th>156</th>\n",
       "      <td>STIFX</td>\n",
       "      <td>[{'city': 'London', 'latitude': None, 'longitu...</td>\n",
       "      <td>London</td>\n",
       "      <td>NaN</td>\n",
       "      <td>NaN</td>\n",
       "    </tr>\n",
       "    <tr>\n",
       "      <th>157</th>\n",
       "      <td>Keen Software House</td>\n",
       "      <td>[{'city': 'London', 'latitude': 51.5220763, 'l...</td>\n",
       "      <td>London</td>\n",
       "      <td>51.522076</td>\n",
       "      <td>-0.115300</td>\n",
       "    </tr>\n",
       "    <tr>\n",
       "      <th>158</th>\n",
       "      <td>New Toy</td>\n",
       "      <td>[{'city': 'London', 'latitude': None, 'longitu...</td>\n",
       "      <td>London</td>\n",
       "      <td>NaN</td>\n",
       "      <td>NaN</td>\n",
       "    </tr>\n",
       "    <tr>\n",
       "      <th>159</th>\n",
       "      <td>PureSolo</td>\n",
       "      <td>[{'city': 'London', 'latitude': None, 'longitu...</td>\n",
       "      <td>London</td>\n",
       "      <td>NaN</td>\n",
       "      <td>NaN</td>\n",
       "    </tr>\n",
       "    <tr>\n",
       "      <th>160</th>\n",
       "      <td>Fotothing</td>\n",
       "      <td>[{'city': 'London', 'latitude': None, 'longitu...</td>\n",
       "      <td>London</td>\n",
       "      <td>NaN</td>\n",
       "      <td>NaN</td>\n",
       "    </tr>\n",
       "  </tbody>\n",
       "</table>\n",
       "<p>161 rows × 5 columns</p>\n",
       "</div>"
      ],
      "text/plain": [
       "                    name                                            offices  \\\n",
       "0               Splendia  [{'city': 'Barcelona', 'latitude': None, 'long...   \n",
       "1                  Wuapi  [{'city': 'Barcelona', 'latitude': 41.387917, ...   \n",
       "2               Jobisjob  [{'city': 'Barcelona', 'latitude': 41.487094, ...   \n",
       "3               LingusTV  [{'city': 'Rubi (Barcelona)', 'latitude': None...   \n",
       "4                 Qajack  [{'city': 'Barcelona', 'latitude': None, 'long...   \n",
       "..                   ...                                                ...   \n",
       "156                STIFX  [{'city': 'London', 'latitude': None, 'longitu...   \n",
       "157  Keen Software House  [{'city': 'London', 'latitude': 51.5220763, 'l...   \n",
       "158              New Toy  [{'city': 'London', 'latitude': None, 'longitu...   \n",
       "159             PureSolo  [{'city': 'London', 'latitude': None, 'longitu...   \n",
       "160            Fotothing  [{'city': 'London', 'latitude': None, 'longitu...   \n",
       "\n",
       "                 city   latitude  longitude  \n",
       "0           Barcelona        NaN        NaN  \n",
       "1           Barcelona  41.387917   2.169919  \n",
       "2           Barcelona  41.487094   2.077320  \n",
       "3    Rubi (Barcelona)        NaN        NaN  \n",
       "4           Barcelona        NaN        NaN  \n",
       "..                ...        ...        ...  \n",
       "156            London        NaN        NaN  \n",
       "157            London  51.522076  -0.115300  \n",
       "158            London        NaN        NaN  \n",
       "159            London        NaN        NaN  \n",
       "160            London        NaN        NaN  \n",
       "\n",
       "[161 rows x 5 columns]"
      ]
     },
     "execution_count": 83,
     "metadata": {},
     "output_type": "execute_result"
    }
   ],
   "source": [
    "city = []\n",
    "latitude = []\n",
    "longitude = []\n",
    "i=0\n",
    "while i < df[\"offices\"].shape[0]:\n",
    "    city.append(df[\"offices\"][i][0][\"city\"])\n",
    "    latitude.append(df[\"offices\"][i][0][\"latitude\"])\n",
    "    longitude.append(df[\"offices\"][i][0][\"longitude\"])\n",
    "    i+=1\n",
    "df[\"city\"] = city\n",
    "df[\"latitude\"] = latitude\n",
    "df[\"longitude\"] = longitude\n",
    "df\n",
    "\n"
   ]
  },
  {
   "cell_type": "code",
   "execution_count": 85,
   "id": "f1a6437c",
   "metadata": {},
   "outputs": [
    {
     "data": {
      "text/html": [
       "<div>\n",
       "<style scoped>\n",
       "    .dataframe tbody tr th:only-of-type {\n",
       "        vertical-align: middle;\n",
       "    }\n",
       "\n",
       "    .dataframe tbody tr th {\n",
       "        vertical-align: top;\n",
       "    }\n",
       "\n",
       "    .dataframe thead th {\n",
       "        text-align: right;\n",
       "    }\n",
       "</style>\n",
       "<table border=\"1\" class=\"dataframe\">\n",
       "  <thead>\n",
       "    <tr style=\"text-align: right;\">\n",
       "      <th></th>\n",
       "      <th>name</th>\n",
       "      <th>city</th>\n",
       "      <th>latitude</th>\n",
       "      <th>longitude</th>\n",
       "    </tr>\n",
       "  </thead>\n",
       "  <tbody>\n",
       "    <tr>\n",
       "      <th>1</th>\n",
       "      <td>Wuapi</td>\n",
       "      <td>Barcelona</td>\n",
       "      <td>41.387917</td>\n",
       "      <td>2.169919</td>\n",
       "    </tr>\n",
       "    <tr>\n",
       "      <th>2</th>\n",
       "      <td>Jobisjob</td>\n",
       "      <td>Barcelona</td>\n",
       "      <td>41.487094</td>\n",
       "      <td>2.077320</td>\n",
       "    </tr>\n",
       "    <tr>\n",
       "      <th>5</th>\n",
       "      <td>Bermi Labs</td>\n",
       "      <td>Barcelona</td>\n",
       "      <td>41.538143</td>\n",
       "      <td>2.452718</td>\n",
       "    </tr>\n",
       "    <tr>\n",
       "      <th>8</th>\n",
       "      <td>Tractis</td>\n",
       "      <td>Barcelona</td>\n",
       "      <td>41.376200</td>\n",
       "      <td>2.189732</td>\n",
       "    </tr>\n",
       "    <tr>\n",
       "      <th>9</th>\n",
       "      <td>Neurotic</td>\n",
       "      <td>Barcelona</td>\n",
       "      <td>41.388738</td>\n",
       "      <td>2.175619</td>\n",
       "    </tr>\n",
       "    <tr>\n",
       "      <th>...</th>\n",
       "      <td>...</td>\n",
       "      <td>...</td>\n",
       "      <td>...</td>\n",
       "      <td>...</td>\n",
       "    </tr>\n",
       "    <tr>\n",
       "      <th>152</th>\n",
       "      <td>Greenvoice</td>\n",
       "      <td>London</td>\n",
       "      <td>51.514735</td>\n",
       "      <td>-0.087424</td>\n",
       "    </tr>\n",
       "    <tr>\n",
       "      <th>153</th>\n",
       "      <td>GetItWithMe</td>\n",
       "      <td>London</td>\n",
       "      <td>51.579373</td>\n",
       "      <td>-0.116242</td>\n",
       "    </tr>\n",
       "    <tr>\n",
       "      <th>154</th>\n",
       "      <td>Enternships</td>\n",
       "      <td>London</td>\n",
       "      <td>51.521528</td>\n",
       "      <td>-0.103822</td>\n",
       "    </tr>\n",
       "    <tr>\n",
       "      <th>155</th>\n",
       "      <td>Bandstocks</td>\n",
       "      <td>London</td>\n",
       "      <td>51.514213</td>\n",
       "      <td>-0.126185</td>\n",
       "    </tr>\n",
       "    <tr>\n",
       "      <th>157</th>\n",
       "      <td>Keen Software House</td>\n",
       "      <td>London</td>\n",
       "      <td>51.522076</td>\n",
       "      <td>-0.115300</td>\n",
       "    </tr>\n",
       "  </tbody>\n",
       "</table>\n",
       "<p>106 rows × 4 columns</p>\n",
       "</div>"
      ],
      "text/plain": [
       "                    name       city   latitude  longitude\n",
       "1                  Wuapi  Barcelona  41.387917   2.169919\n",
       "2               Jobisjob  Barcelona  41.487094   2.077320\n",
       "5             Bermi Labs  Barcelona  41.538143   2.452718\n",
       "8                Tractis  Barcelona  41.376200   2.189732\n",
       "9               Neurotic  Barcelona  41.388738   2.175619\n",
       "..                   ...        ...        ...        ...\n",
       "152           Greenvoice     London  51.514735  -0.087424\n",
       "153          GetItWithMe     London  51.579373  -0.116242\n",
       "154          Enternships     London  51.521528  -0.103822\n",
       "155           Bandstocks     London  51.514213  -0.126185\n",
       "157  Keen Software House     London  51.522076  -0.115300\n",
       "\n",
       "[106 rows x 4 columns]"
      ]
     },
     "execution_count": 85,
     "metadata": {},
     "output_type": "execute_result"
    }
   ],
   "source": [
    "df.drop(columns=[\"offices\"],inplace=True)\n",
    "df.dropna(inplace=True)\n",
    "df"
   ]
  },
  {
   "cell_type": "code",
   "execution_count": 87,
   "id": "1f45f115",
   "metadata": {},
   "outputs": [
    {
     "data": {
      "text/plain": [
       "London            78\n",
       "Amsterdam         17\n",
       "Barcelona          9\n",
       "London W11 2HX     1\n",
       "London,            1\n",
       "Name: city, dtype: int64"
      ]
     },
     "execution_count": 87,
     "metadata": {},
     "output_type": "execute_result"
    }
   ],
   "source": [
    "df[\"city\"].value_counts()"
   ]
  },
  {
   "cell_type": "code",
   "execution_count": null,
   "id": "bc30687d",
   "metadata": {},
   "outputs": [],
   "source": [
    "import requests\n",
    "\n",
    "url = f\"https://api.foursquare.com/v3/places/nearby?ll={lat}%2C{long}&query={query}\"\n",
    "\n",
    "headers = {\n",
    "    \"accept\": \"application/json\",\n",
    "    \"Authorization\": f\"{key}\"\n",
    "}\n",
    "\n",
    "response = requests.get(url, headers=headers)\n",
    "\n",
    "print(response.text)"
   ]
  }
 ],
 "metadata": {
  "kernelspec": {
   "display_name": "Python 3 (ipykernel)",
   "language": "python",
   "name": "python3"
  },
  "language_info": {
   "codemirror_mode": {
    "name": "ipython",
    "version": 3
   },
   "file_extension": ".py",
   "mimetype": "text/x-python",
   "name": "python",
   "nbconvert_exporter": "python",
   "pygments_lexer": "ipython3",
   "version": "3.9.13"
  }
 },
 "nbformat": 4,
 "nbformat_minor": 5
}
