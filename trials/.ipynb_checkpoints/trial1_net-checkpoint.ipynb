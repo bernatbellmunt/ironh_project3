{
 "cells": [
  {
   "cell_type": "code",
   "execution_count": 1,
   "id": "db991a9e",
   "metadata": {},
   "outputs": [],
   "source": [
    "# importo llibreries\n",
    "import pandas as pd\n",
    "from pandas import json_normalize\n",
    "import requests \n",
    "import json\n",
    "import os\n",
    "from dotenv import load_dotenv #conda install -c conda-forge python-dotenv\n",
    "import time\n",
    "import folium\n",
    "from folium import Choropleth, Circle, Marker, Icon, Map\n",
    "from folium.plugins import HeatMap, MarkerCluster\n",
    "import pandas as pd"
   ]
  },
  {
   "cell_type": "code",
   "execution_count": 2,
   "id": "a138c0f4",
   "metadata": {},
   "outputs": [],
   "source": [
    "# activo clau per api\n",
    "import os\n",
    "load_dotenv()\n",
    "key = os.getenv(\"4squarekey\")"
   ]
  },
  {
   "cell_type": "code",
   "execution_count": 19,
   "id": "bb29339a",
   "metadata": {},
   "outputs": [],
   "source": [
    "#defineixo funció que em tornara un json del filtre que li passo\n",
    "def get_query_to_df(query,latitude,longitude):\n",
    "\n",
    "    url = f\"https://api.foursquare.com/v3/places/nearby?ll={latitude}%2C{longitude}&query={query}\"\n",
    "\n",
    "    headers = {\n",
    "        \"accept\": \"application/json\",\n",
    "        \"Authorization\": f\"{key}\"}\n",
    "    response = requests.get(url, headers=headers).json()\n",
    "    newlist=[]\n",
    "    for lista in response[\"results\"]:\n",
    "        lat= lista[\"geocodes\"][\"main\"][\"latitude\"]\n",
    "        long = lista[\"geocodes\"][\"main\"][\"longitude\"]\n",
    "        name = lista[\"name\"]\n",
    "        \n",
    "        newlist.append({\"name\":name,\"lat\":lat,\"long\":long})\n",
    "    \n",
    "    df = pd.DataFrame(newlist)\n",
    "    mapa = Map(location = [latitude,longitude], zoom_start=15)\n",
    "    for index,row in df.iterrows():\n",
    "\n",
    "        #primer iconi, depres marcador\n",
    "        icono = {\"location\":[row[\"lat\"],row[\"long\"]]}\n",
    "\n",
    "        marker = Marker(**icono)\n",
    "\n",
    "\n",
    "        marker.add_to(mapa)\n",
    "\n",
    "    return mapa \n",
    "\n",
    "    "
   ]
  },
  {
   "cell_type": "code",
   "execution_count": 20,
   "id": "bd16295e",
   "metadata": {
    "scrolled": true
   },
   "outputs": [
    {
     "data": {
      "text/html": [
       "<div style=\"width:100%;\"><div style=\"position:relative;width:100%;height:0;padding-bottom:60%;\"><span style=\"color:#565656\">Make this Notebook Trusted to load map: File -> Trust Notebook</span><iframe srcdoc=\"&lt;!DOCTYPE html&gt;\n",
       "&lt;head&gt;    \n",
       "    &lt;meta http-equiv=&quot;content-type&quot; content=&quot;text/html; charset=UTF-8&quot; /&gt;\n",
       "    \n",
       "        &lt;script&gt;\n",
       "            L_NO_TOUCH = false;\n",
       "            L_DISABLE_3D = false;\n",
       "        &lt;/script&gt;\n",
       "    \n",
       "    &lt;style&gt;html, body {width: 100%;height: 100%;margin: 0;padding: 0;}&lt;/style&gt;\n",
       "    &lt;style&gt;#map {position:absolute;top:0;bottom:0;right:0;left:0;}&lt;/style&gt;\n",
       "    &lt;script src=&quot;https://cdn.jsdelivr.net/npm/leaflet@1.6.0/dist/leaflet.js&quot;&gt;&lt;/script&gt;\n",
       "    &lt;script src=&quot;https://code.jquery.com/jquery-1.12.4.min.js&quot;&gt;&lt;/script&gt;\n",
       "    &lt;script src=&quot;https://maxcdn.bootstrapcdn.com/bootstrap/3.2.0/js/bootstrap.min.js&quot;&gt;&lt;/script&gt;\n",
       "    &lt;script src=&quot;https://cdnjs.cloudflare.com/ajax/libs/Leaflet.awesome-markers/2.0.2/leaflet.awesome-markers.js&quot;&gt;&lt;/script&gt;\n",
       "    &lt;link rel=&quot;stylesheet&quot; href=&quot;https://cdn.jsdelivr.net/npm/leaflet@1.6.0/dist/leaflet.css&quot;/&gt;\n",
       "    &lt;link rel=&quot;stylesheet&quot; href=&quot;https://maxcdn.bootstrapcdn.com/bootstrap/3.2.0/css/bootstrap.min.css&quot;/&gt;\n",
       "    &lt;link rel=&quot;stylesheet&quot; href=&quot;https://maxcdn.bootstrapcdn.com/bootstrap/3.2.0/css/bootstrap-theme.min.css&quot;/&gt;\n",
       "    &lt;link rel=&quot;stylesheet&quot; href=&quot;https://maxcdn.bootstrapcdn.com/font-awesome/4.6.3/css/font-awesome.min.css&quot;/&gt;\n",
       "    &lt;link rel=&quot;stylesheet&quot; href=&quot;https://cdnjs.cloudflare.com/ajax/libs/Leaflet.awesome-markers/2.0.2/leaflet.awesome-markers.css&quot;/&gt;\n",
       "    &lt;link rel=&quot;stylesheet&quot; href=&quot;https://cdn.jsdelivr.net/gh/python-visualization/folium/folium/templates/leaflet.awesome.rotate.min.css&quot;/&gt;\n",
       "    \n",
       "            &lt;meta name=&quot;viewport&quot; content=&quot;width=device-width,\n",
       "                initial-scale=1.0, maximum-scale=1.0, user-scalable=no&quot; /&gt;\n",
       "            &lt;style&gt;\n",
       "                #map_704cb5dc8ac380b4b0485b5cea4d7ba5 {\n",
       "                    position: relative;\n",
       "                    width: 100.0%;\n",
       "                    height: 100.0%;\n",
       "                    left: 0.0%;\n",
       "                    top: 0.0%;\n",
       "                }\n",
       "            &lt;/style&gt;\n",
       "        \n",
       "&lt;/head&gt;\n",
       "&lt;body&gt;    \n",
       "    \n",
       "            &lt;div class=&quot;folium-map&quot; id=&quot;map_704cb5dc8ac380b4b0485b5cea4d7ba5&quot; &gt;&lt;/div&gt;\n",
       "        \n",
       "&lt;/body&gt;\n",
       "&lt;script&gt;    \n",
       "    \n",
       "            var map_704cb5dc8ac380b4b0485b5cea4d7ba5 = L.map(\n",
       "                &quot;map_704cb5dc8ac380b4b0485b5cea4d7ba5&quot;,\n",
       "                {\n",
       "                    center: [41.375340806569696, 2.146677392081878],\n",
       "                    crs: L.CRS.EPSG3857,\n",
       "                    zoom: 15,\n",
       "                    zoomControl: true,\n",
       "                    preferCanvas: false,\n",
       "                }\n",
       "            );\n",
       "\n",
       "            \n",
       "\n",
       "        \n",
       "    \n",
       "            var tile_layer_a0561d0e4a5ea89aa2f1858022aca13e = L.tileLayer(\n",
       "                &quot;https://{s}.tile.openstreetmap.org/{z}/{x}/{y}.png&quot;,\n",
       "                {&quot;attribution&quot;: &quot;Data by \\u0026copy; \\u003ca href=\\&quot;http://openstreetmap.org\\&quot;\\u003eOpenStreetMap\\u003c/a\\u003e, under \\u003ca href=\\&quot;http://www.openstreetmap.org/copyright\\&quot;\\u003eODbL\\u003c/a\\u003e.&quot;, &quot;detectRetina&quot;: false, &quot;maxNativeZoom&quot;: 18, &quot;maxZoom&quot;: 18, &quot;minZoom&quot;: 0, &quot;noWrap&quot;: false, &quot;opacity&quot;: 1, &quot;subdomains&quot;: &quot;abc&quot;, &quot;tms&quot;: false}\n",
       "            ).addTo(map_704cb5dc8ac380b4b0485b5cea4d7ba5);\n",
       "        \n",
       "    \n",
       "            var marker_d179a1400acb4915d5c18a2e716f6cca = L.marker(\n",
       "                [41.379032, 2.151319],\n",
       "                {}\n",
       "            ).addTo(map_704cb5dc8ac380b4b0485b5cea4d7ba5);\n",
       "        \n",
       "    \n",
       "            var marker_91ff270f864726466a0fb8acb220ecae = L.marker(\n",
       "                [41.347733, 2.075446],\n",
       "                {}\n",
       "            ).addTo(map_704cb5dc8ac380b4b0485b5cea4d7ba5);\n",
       "        \n",
       "    \n",
       "            var marker_a2449e8ecd961b848bea387d587bf441 = L.marker(\n",
       "                [41.364747, 2.155543],\n",
       "                {}\n",
       "            ).addTo(map_704cb5dc8ac380b4b0485b5cea4d7ba5);\n",
       "        \n",
       "    \n",
       "            var marker_cd80e56e56d08c9905a38d5b24dbbd05 = L.marker(\n",
       "                [41.362243, 2.151794],\n",
       "                {}\n",
       "            ).addTo(map_704cb5dc8ac380b4b0485b5cea4d7ba5);\n",
       "        \n",
       "    \n",
       "            var marker_094bc3b4bbc2950d44b577953216abbb = L.marker(\n",
       "                [41.38041, 2.120635],\n",
       "                {}\n",
       "            ).addTo(map_704cb5dc8ac380b4b0485b5cea4d7ba5);\n",
       "        \n",
       "    \n",
       "            var marker_f391b7c31914b0ce61bb08fee6bf3030 = L.marker(\n",
       "                [41.381372, 2.127],\n",
       "                {}\n",
       "            ).addTo(map_704cb5dc8ac380b4b0485b5cea4d7ba5);\n",
       "        \n",
       "&lt;/script&gt;\" style=\"position:absolute;width:100%;height:100%;left:0;top:0;border:none !important;\" allowfullscreen webkitallowfullscreen mozallowfullscreen></iframe></div></div>"
      ],
      "text/plain": [
       "<folium.folium.Map at 0x7ff1d86ada30>"
      ]
     },
     "execution_count": 20,
     "metadata": {},
     "output_type": "execute_result"
    }
   ],
   "source": [
    "get_query_to_df(\"basketball stadium\",41.375340806569696, 2.146677392081878)"
   ]
  },
  {
   "cell_type": "code",
   "execution_count": null,
   "id": "b31be8f1",
   "metadata": {},
   "outputs": [],
   "source": []
  }
 ],
 "metadata": {
  "kernelspec": {
   "display_name": "Python 3 (ipykernel)",
   "language": "python",
   "name": "python3"
  },
  "language_info": {
   "codemirror_mode": {
    "name": "ipython",
    "version": 3
   },
   "file_extension": ".py",
   "mimetype": "text/x-python",
   "name": "python",
   "nbconvert_exporter": "python",
   "pygments_lexer": "ipython3",
   "version": "3.9.13"
  },
  "vscode": {
   "interpreter": {
    "hash": "31f2aee4e71d21fbe5cf8b01ff0e069b9275f58929596ceb00d14d90e3e16cd6"
   }
  }
 },
 "nbformat": 4,
 "nbformat_minor": 5
}
